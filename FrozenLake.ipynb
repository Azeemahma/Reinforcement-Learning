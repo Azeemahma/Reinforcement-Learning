{
  "nbformat": 4,
  "nbformat_minor": 0,
  "metadata": {
    "colab": {
      "provenance": [],
      "authorship_tag": "ABX9TyPhiucANkA77fxzbsjOYt90",
      "include_colab_link": true
    },
    "kernelspec": {
      "name": "python3",
      "display_name": "Python 3"
    },
    "language_info": {
      "name": "python"
    }
  },
  "cells": [
    {
      "cell_type": "markdown",
      "metadata": {
        "id": "view-in-github",
        "colab_type": "text"
      },
      "source": [
        "<a href=\"https://colab.research.google.com/github/Azeemahma/Reinforcement-Learning/blob/master/FrozenLake.ipynb\" target=\"_parent\"><img src=\"https://colab.research.google.com/assets/colab-badge.svg\" alt=\"Open In Colab\"/></a>"
      ]
    },
    {
      "cell_type": "code",
      "execution_count": 1,
      "metadata": {
        "colab": {
          "base_uri": "https://localhost:8080/",
          "height": 526
        },
        "id": "J8xAudCqIL_W",
        "outputId": "3364edbc-f63b-4593-b5e2-68f11f610273"
      },
      "outputs": [
        {
          "output_type": "display_data",
          "data": {
            "text/plain": [
              "<Figure size 600x600 with 1 Axes>"
            ],
            "image/png": "[encoded data removed]"
          },
          "metadata": {}
        }
      ],
      "source": [
        "import numpy as np\n",
        "import matplotlib.pyplot as plt\n",
        "import random\n",
        "\n",
        "# Frozen Lake Grid dimensions and parameters\n",
        "GRID_SIZE = 4  # 4x4 Grid\n",
        "ALPHA = 0.1  # Learning rate\n",
        "GAMMA = 0.9  # Discount factor\n",
        "EPSILON = 0.1  # Exploration rate\n",
        "EPISODES = 500\n",
        "\n",
        "# Initialize Q-table\n",
        "q_table = np.zeros((GRID_SIZE, GRID_SIZE, 4))  # 4 actions (up, down, left, right)\n",
        "\n",
        "# Actions: [up, down, left, right]\n",
        "actions = [(0, -1), (0, 1), (-1, 0), (1, 0)]\n",
        "\n",
        "# Rewards and obstacles\n",
        "goal = (3, 3)  # Goal position\n",
        "start = (0, 0)  # Start position\n",
        "\n",
        "# Generate random holes avoiding start and goal\n",
        "num_holes = 3\n",
        "holes = set()\n",
        "while len(holes) < num_holes:\n",
        "    hole = (random.randint(0, GRID_SIZE - 1), random.randint(0, GRID_SIZE - 1))\n",
        "    if hole != start and hole != goal:\n",
        "        holes.add(hole)\n",
        "holes = list(holes)\n",
        "\n",
        "reward_grid = np.full((GRID_SIZE, GRID_SIZE), -1)  # Default reward is -1\n",
        "reward_grid[goal] = 100  # Goal reward\n",
        "for hole in holes:\n",
        "    reward_grid[hole] = -100  # Falling into hole penalty\n",
        "\n",
        "def is_valid_state(x, y):\n",
        "    return 0 <= x < GRID_SIZE and 0 <= y < GRID_SIZE and (x, y) not in holes\n",
        "\n",
        "def choose_action(state):\n",
        "    if random.uniform(0, 1) < EPSILON:  # Exploration\n",
        "        return random.randint(0, 3)\n",
        "    else:  # Exploitation\n",
        "        x, y = state\n",
        "        return np.argmax(q_table[x, y])\n",
        "\n",
        "# Training\n",
        "for episode in range(EPISODES):\n",
        "    state = start\n",
        "    while state != goal:\n",
        "        x, y = state\n",
        "        action = choose_action(state)\n",
        "        dx, dy = actions[action]\n",
        "        next_state = (x + dx, y + dy)\n",
        "\n",
        "        if not is_valid_state(*next_state):\n",
        "            next_state = state  # Stay in place if invalid move\n",
        "\n",
        "        reward = reward_grid[next_state]\n",
        "        next_x, next_y = next_state\n",
        "        q_table[x, y, action] += ALPHA * (\n",
        "            reward + GAMMA * np.max(q_table[next_x, next_y]) - q_table[x, y, action]\n",
        "        )\n",
        "        state = next_state\n",
        "\n",
        "# Find shortest path\n",
        "path = []\n",
        "state = start\n",
        "visited = set()\n",
        "while state != goal:\n",
        "    if state in visited:\n",
        "        break\n",
        "    visited.add(state)\n",
        "    x, y = state\n",
        "    action = np.argmax(q_table[x, y])\n",
        "    dx, dy = actions[action]\n",
        "    next_state = (x + dx, y + dy)\n",
        "    if next_state == state or not is_valid_state(*next_state):\n",
        "        break\n",
        "    path.append(next_state)\n",
        "    state = next_state\n",
        "\n",
        "# Visualizing the grid\n",
        "fig, ax = plt.subplots(figsize=(6, 6))  # Same figure size as in the second code\n",
        "ax.set_xticks(range(GRID_SIZE + 1))\n",
        "ax.set_yticks(range(GRID_SIZE + 1))\n",
        "ax.set_xticklabels([])\n",
        "ax.set_yticklabels([])\n",
        "ax.grid(True, which=\"major\", color=\"black\", linestyle=\"-\", linewidth=1)\n",
        "ax.invert_yaxis()\n",
        "\n",
        "# Define colors for different states\n",
        "colors = {\n",
        "    \"S\": \"lightgrey\",  # Start\n",
        "    \"G\": \"lightgreen\",  # Goal\n",
        "    \"H\": \"lightcoral\",  # Hole\n",
        "    \"P\": \"orange\",  # Path\n",
        "    \"F\": \"lightblue\"\n",
        "}\n",
        "\n",
        "# Drawing the grid with colors and labels\n",
        "for i in range(GRID_SIZE):\n",
        "    for j in range(GRID_SIZE):\n",
        "        if (i, j) == start:\n",
        "            label = \"S\"\n",
        "        elif (i, j) == goal:\n",
        "            label = \"G\"\n",
        "        elif (i, j) in holes:\n",
        "            label = \"H\"\n",
        "        elif (i, j) in path:\n",
        "            label = \"P\"\n",
        "        else:\n",
        "            label = \"F\"\n",
        "\n",
        "        ax.add_patch(plt.Rectangle((j, i), 1, 1, color=colors[label], ec=\"black\"))\n",
        "        ax.text(j + 0.5, i + 0.5, label, ha='center', va='center', fontsize=12, fontweight='bold', color='black')\n",
        "\n",
        "plt.title(\"Frozen Lake Pathfinding using Q-learning\")\n",
        "plt.show()"
      ]
    }
  ]
}